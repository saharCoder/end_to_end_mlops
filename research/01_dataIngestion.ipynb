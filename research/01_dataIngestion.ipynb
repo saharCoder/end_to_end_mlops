{
 "cells": [
  {
   "cell_type": "code",
   "execution_count": 1,
   "id": "150c20ff",
   "metadata": {},
   "outputs": [
    {
     "name": "stdout",
     "output_type": "stream",
     "text": [
      "hi\n"
     ]
    }
   ],
   "source": [
    "print('hi')"
   ]
  },
  {
   "cell_type": "code",
   "execution_count": 2,
   "id": "97db6e82",
   "metadata": {},
   "outputs": [],
   "source": [
    "import os"
   ]
  },
  {
   "cell_type": "code",
   "execution_count": 3,
   "id": "9e372261",
   "metadata": {},
   "outputs": [
    {
     "data": {
      "text/plain": [
       "'/Users/macbook/PycharmProjects/end_to_end_mlops/research'"
      ]
     },
     "execution_count": 3,
     "metadata": {},
     "output_type": "execute_result"
    }
   ],
   "source": [
    "%pwd"
   ]
  },
  {
   "cell_type": "code",
   "execution_count": 4,
   "id": "6d551d28",
   "metadata": {},
   "outputs": [],
   "source": [
    "os.chdir('../')"
   ]
  },
  {
   "cell_type": "code",
   "execution_count": 5,
   "id": "9e7e4b5d",
   "metadata": {},
   "outputs": [
    {
     "data": {
      "text/plain": [
       "'/Users/macbook/PycharmProjects/end_to_end_mlops'"
      ]
     },
     "execution_count": 5,
     "metadata": {},
     "output_type": "execute_result"
    }
   ],
   "source": [
    "%pwd"
   ]
  },
  {
   "cell_type": "code",
   "execution_count": null,
   "id": "f4e78e1b",
   "metadata": {},
   "outputs": [],
   "source": [
    "from dataclasses import dataclass\n",
    "from pathlib import Path\n",
    "\n",
    "#frozen=True: (values can’t be changed once set).\n",
    "@dataclass(frozen=True)\n",
    "class DataIngestionConfig:\n",
    "#this class will be used for mapping the config yaml info to the python code\n",
    "    root_dir: Path\n",
    "    source_URL: str\n",
    "    local_data_file: Path\n",
    "    unzip_dir: Path"
   ]
  },
  {
   "cell_type": "code",
   "execution_count": 39,
   "id": "990c0be8",
   "metadata": {},
   "outputs": [],
   "source": [
    "#The typicl flow is that we gonna open the yaml config files and pass the info to this dataingestion class"
   ]
  },
  {
   "cell_type": "code",
   "execution_count": null,
   "id": "4074d581",
   "metadata": {},
   "outputs": [],
   "source": [
    "from mlProject.constants import *\n",
    "#here there are all the static path for the yaml files (config, parameters,x)"
   ]
  },
  {
   "cell_type": "code",
   "execution_count": null,
   "id": "4de1c36b",
   "metadata": {},
   "outputs": [],
   "source": [
    "from mlProject.utils.common import * #here are all teh reusable code blocks are defigned as functions and can be called and used more than once"
   ]
  },
  {
   "cell_type": "markdown",
   "id": "3955618c",
   "metadata": {},
   "source": [
    "This class is a central controller that:\n",
    "\n",
    "Loads configuration files (config.yaml, params.yaml, schema.yaml)\n",
    "\n",
    "Creates necessary directories\n",
    "\n",
    "Returns structured config objects (like DataIngestionConfig) for pipeline components to use"
   ]
  },
  {
   "cell_type": "code",
   "execution_count": 35,
   "id": "e7e8aa0c",
   "metadata": {},
   "outputs": [],
   "source": [
    "class ConfigurationManager:\n",
    "    def __init__(\n",
    "        self,\n",
    "        config_filepath = CONFIG_FILE_PATH,\n",
    "        params_filepath = PARAMS_FILE_PATH,\n",
    "        schema_filepath = SCHEMA_FILE_PATH):\n",
    "\n",
    "        self.config = read_yaml(config_filepath)\n",
    "        self.params = read_yaml(params_filepath)\n",
    "        self.schema = read_yaml(schema_filepath)\n",
    "\n",
    "        create_directories([self.config.artifacts_root])\n",
    "\n",
    "\n",
    "    \n",
    "    def get_data_ingestion_config(self) -> DataIngestionConfig:\n",
    "        config = self.config.data_ingestion\n",
    "\n",
    "        create_directories([config.root_dir])\n",
    "\n",
    "        data_ingestion_config = DataIngestionConfig(\n",
    "            root_dir=config.root_dir,\n",
    "            source_URL=config.source_URL,\n",
    "            local_data_file=config.local_data_file,\n",
    "            unzip_dir=config.unzip_dir \n",
    "        )\n",
    "\n",
    "        return data_ingestion_config"
   ]
  },
  {
   "cell_type": "code",
   "execution_count": 36,
   "id": "51a7da4e",
   "metadata": {},
   "outputs": [],
   "source": [
    "import os\n",
    "import urllib.request as request\n",
    "import zipfile\n",
    "from mlProject import logger\n",
    "from mlProject.utils.common import get_size"
   ]
  },
  {
   "cell_type": "markdown",
   "id": "446e3f30",
   "metadata": {},
   "source": [
    "This class is responsible for:\n",
    "\n",
    "Downloading the dataset from a given URL.\n",
    "\n",
    "Unzipping the downloaded file into a structured folder.\n",
    "\n",
    "Logging progress and managing paths — all driven by a config object.\n",
    "\n"
   ]
  },
  {
   "cell_type": "code",
   "execution_count": 37,
   "id": "cc2d6ffc",
   "metadata": {},
   "outputs": [],
   "source": [
    "class DataIngestion:\n",
    "    def __init__(self, config: DataIngestionConfig):\n",
    "        self.config = config\n",
    "\n",
    "\n",
    "    \n",
    "    def download_file(self):\n",
    "        if not os.path.exists(self.config.local_data_file):\n",
    "            filename, headers = request.urlretrieve(\n",
    "                url = self.config.source_URL,\n",
    "                filename = self.config.local_data_file\n",
    "            )\n",
    "            logger.info(f\"{filename} download! with following info: \\n{headers}\")\n",
    "        else:\n",
    "            logger.info(f\"File already exists of size: {get_size(Path(self.config.local_data_file))}\")\n",
    "\n",
    "\n",
    "\n",
    "    def extract_zip_file(self):\n",
    "        \"\"\"\n",
    "        zip_file_path: str\n",
    "        Extracts the zip file into the data directory\n",
    "        Function returns None\n",
    "        \"\"\"\n",
    "        unzip_path = self.config.unzip_dir\n",
    "        os.makedirs(unzip_path, exist_ok=True)\n",
    "        with zipfile.ZipFile(self.config.local_data_file, 'r') as zip_ref:\n",
    "            zip_ref.extractall(unzip_path)\n",
    "  "
   ]
  },
  {
   "cell_type": "code",
   "execution_count": 38,
   "id": "7a715527",
   "metadata": {},
   "outputs": [
    {
     "name": "stdout",
     "output_type": "stream",
     "text": [
      "[2025-05-22 00:45:21,643: INFO: common: yaml file: config/config.yaml loaded successfully]\n",
      "[2025-05-22 00:45:21,651: INFO: common: yaml file: params.yaml loaded successfully]\n",
      "[2025-05-22 00:45:21,653: INFO: common: yaml file: schema.yaml loaded successfully]\n",
      "[2025-05-22 00:45:21,655: INFO: common: created directory at: artifacts]\n",
      "[2025-05-22 00:45:21,656: INFO: common: created directory at: artifacts/data_ingestion]\n",
      "[2025-05-22 00:45:24,234: INFO: 2366278714: artifacts/data_ingestion/data.zip download! with following info: \n",
      "Connection: close\n",
      "Content-Length: 3336668\n",
      "Cache-Control: max-age=300\n",
      "Content-Security-Policy: default-src 'none'; style-src 'unsafe-inline'; sandbox\n",
      "Content-Type: application/zip\n",
      "ETag: \"a5376966ca8e321cbf6078b5ec05de3bb32b23e51e507c74be82d4d53ab28d1d\"\n",
      "Strict-Transport-Security: max-age=31536000\n",
      "X-Content-Type-Options: nosniff\n",
      "X-Frame-Options: deny\n",
      "X-XSS-Protection: 1; mode=block\n",
      "X-GitHub-Request-Id: 7177:24F316:60FD6DD:6A77274:682E4971\n",
      "Accept-Ranges: bytes\n",
      "Date: Wed, 21 May 2025 21:45:23 GMT\n",
      "Via: 1.1 varnish\n",
      "X-Served-By: cache-mrs1050109-MRS\n",
      "X-Cache: MISS\n",
      "X-Cache-Hits: 0\n",
      "X-Timer: S1747863924.552662,VS0,VE269\n",
      "Vary: Authorization,Accept-Encoding,Origin\n",
      "Access-Control-Allow-Origin: *\n",
      "Cross-Origin-Resource-Policy: cross-origin\n",
      "X-Fastly-Request-ID: ee448986ccf39a1e9ec754429866a1f1a4fe8752\n",
      "Expires: Wed, 21 May 2025 21:50:23 GMT\n",
      "Source-Age: 0\n",
      "\n",
      "]\n"
     ]
    }
   ],
   "source": [
    "try:\n",
    "    config = ConfigurationManager()\n",
    "    data_ingestion_config = config.get_data_ingestion_config()\n",
    "    data_ingestion = DataIngestion(config=data_ingestion_config)\n",
    "    data_ingestion.download_file()\n",
    "    data_ingestion.extract_zip_file()\n",
    "except Exception as e:\n",
    "    raise e"
   ]
  },
  {
   "cell_type": "code",
   "execution_count": null,
   "id": "ea8a28d3",
   "metadata": {},
   "outputs": [],
   "source": []
  }
 ],
 "metadata": {
  "kernelspec": {
   "display_name": "myenv",
   "language": "python",
   "name": "python3"
  },
  "language_info": {
   "codemirror_mode": {
    "name": "ipython",
    "version": 3
   },
   "file_extension": ".py",
   "mimetype": "text/x-python",
   "name": "python",
   "nbconvert_exporter": "python",
   "pygments_lexer": "ipython3",
   "version": "3.8.18"
  }
 },
 "nbformat": 4,
 "nbformat_minor": 5
}
