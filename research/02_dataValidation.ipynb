{
 "cells": [
  {
   "cell_type": "code",
   "execution_count": 38,
   "id": "f7f9f610",
   "metadata": {},
   "outputs": [],
   "source": [
    "import os"
   ]
  },
  {
   "cell_type": "code",
   "execution_count": 39,
   "id": "603f4c76",
   "metadata": {},
   "outputs": [
    {
     "data": {
      "text/plain": [
       "'/Users/macbook/PycharmProjects/end_to_end_mlops'"
      ]
     },
     "execution_count": 39,
     "metadata": {},
     "output_type": "execute_result"
    }
   ],
   "source": [
    "%pwd"
   ]
  },
  {
   "cell_type": "code",
   "execution_count": 4,
   "id": "58772ed8",
   "metadata": {},
   "outputs": [],
   "source": [
    "os.chdir('../')"
   ]
  },
  {
   "cell_type": "code",
   "execution_count": 40,
   "id": "b2094bb6",
   "metadata": {},
   "outputs": [
    {
     "data": {
      "text/plain": [
       "'/Users/macbook/PycharmProjects/end_to_end_mlops'"
      ]
     },
     "execution_count": 40,
     "metadata": {},
     "output_type": "execute_result"
    }
   ],
   "source": [
    "%pwd"
   ]
  },
  {
   "cell_type": "code",
   "execution_count": 41,
   "id": "38b5bbae",
   "metadata": {},
   "outputs": [],
   "source": [
    "from dataclasses import dataclass\n",
    "from pathlib import Path"
   ]
  },
  {
   "cell_type": "markdown",
   "id": "a64b4053",
   "metadata": {},
   "source": [
    "In this file we need to define the data we want to validate which is the first stage in this pipeline"
   ]
  },
  {
   "cell_type": "code",
   "execution_count": 42,
   "id": "b09aa7e6",
   "metadata": {},
   "outputs": [],
   "source": [
    "#/Users/macbook/PycharmProjects/end_to_end_mlops/artifacts/data_ingestion/email_phishing_data.csv\n",
    "@dataclass(frozen=True)\n",
    "class DataValidationConfig:\n",
    "    root_dir: Path\n",
    "    unzip_data_dir: Path\n",
    "    STATUS_FILE: Path\n",
    "    all_schema: dict"
   ]
  },
  {
   "cell_type": "code",
   "execution_count": 43,
   "id": "f1e1f32a",
   "metadata": {},
   "outputs": [],
   "source": [
    "from mlProject.constants import *"
   ]
  },
  {
   "cell_type": "code",
   "execution_count": 44,
   "id": "e52c2c34",
   "metadata": {},
   "outputs": [],
   "source": [
    "from mlProject.utils.common import * #here are all teh reusable code blocks are defigned as functions and can be called and used more than once"
   ]
  },
  {
   "cell_type": "code",
   "execution_count": 45,
   "id": "a7975b58",
   "metadata": {},
   "outputs": [],
   "source": [
    "class ConfigurationManager:\n",
    "    def __init__(\n",
    "        self,\n",
    "        config_filepath = CONFIG_FILE_PATH,\n",
    "        params_filepath = PARAMS_FILE_PATH,\n",
    "        schema_filepath = SCHEMA_FILE_PATH):\n",
    "\n",
    "        self.config = read_yaml(config_filepath)\n",
    "        self.params = read_yaml(params_filepath)\n",
    "        self.schema = read_yaml(schema_filepath)\n",
    "\n",
    "        create_directories([self.config.artifacts_root])\n",
    "\n",
    "\n",
    "    \n",
    "    def get_data_validation_config(self) -> DataValidationConfig:\n",
    "        config = self.config.data_validation\n",
    "        schema=self.schema.COLUMNS\n",
    "        create_directories([config.root_dir])\n",
    "        return DataValidationConfig(\n",
    "            root_dir=Path(config.root_dir),\n",
    "            unzip_data_dir=Path(config.unzip_data_dir),\n",
    "            STATUS_FILE=Path(config.STATUS_FILE),\n",
    "            all_schema= schema\n",
    "        )\n",
    "\n"
   ]
  },
  {
   "cell_type": "code",
   "execution_count": 46,
   "id": "fec126f8",
   "metadata": {},
   "outputs": [],
   "source": [
    "import os\n",
    "import urllib.request as request\n",
    "import zipfile\n",
    "from mlProject import logger\n",
    "from mlProject.utils.common import get_size"
   ]
  },
  {
   "cell_type": "code",
   "execution_count": 47,
   "id": "1171773c",
   "metadata": {},
   "outputs": [],
   "source": [
    "import pandas as pd"
   ]
  },
  {
   "cell_type": "code",
   "execution_count": 58,
   "id": "f0a653dd",
   "metadata": {},
   "outputs": [],
   "source": [
    "class DataValiadtion:\n",
    "    def __init__(self, config: DataValidationConfig):\n",
    "        self.config = config\n",
    "\n",
    "\n",
    "    def validate_all_columns(self)-> bool:\n",
    "        try:\n",
    "            validation_status = None\n",
    "            errors=[]\n",
    "\n",
    "            data = pd.read_csv(self.config.unzip_data_dir)\n",
    "            \n",
    "            all_cols = list(data.columns)\n",
    "            all_schema = self.config.all_schema\n",
    "            \n",
    "            logger.info(f\"Columns in data: {all_cols}\")\n",
    "            logger.info(f\"Expected schema: {all_schema}\")\n",
    "            \n",
    "            for col in all_cols:\n",
    "                if col not in all_schema:\n",
    "                    validation_status = False\n",
    "                    with open(self.config.STATUS_FILE, 'w') as f:\n",
    "                        f.write(f\"Validation status: {validation_status}\")\n",
    "                        errors.append(f\"Missing column: {col}\")\n",
    "                else:\n",
    "                    actual_dtype = str(data[col].dtype)\n",
    "                    expected_dtype = str(all_schema[col])\n",
    "                    if actual_dtype != expected_dtype:\n",
    "                        validation_status = False\n",
    "                        errors.append(\n",
    "                            f\"Type mismatch in column '{col}': expected {expected_dtype}, got {actual_dtype}\"\n",
    "                        )\n",
    "                    else:\n",
    "                        validation_status = True\n",
    "                    \n",
    "                    with open(self.config.STATUS_FILE, 'w') as f:\n",
    "                        f.write(f\"Validation status: {validation_status}\")\n",
    "\n",
    "            return validation_status\n",
    "        \n",
    "        except Exception as e:\n",
    "            raise e\n"
   ]
  },
  {
   "cell_type": "code",
   "execution_count": 59,
   "id": "da966921",
   "metadata": {},
   "outputs": [
    {
     "name": "stdout",
     "output_type": "stream",
     "text": [
      "[2025-05-24 14:57:00,732: INFO: common: yaml file: config/config.yaml loaded successfully]\n",
      "[2025-05-24 14:57:00,792: INFO: common: yaml file: params.yaml loaded successfully]\n",
      "[2025-05-24 14:57:00,800: INFO: common: yaml file: schema.yaml loaded successfully]\n",
      "[2025-05-24 14:57:00,802: INFO: common: created directory at: artifacts]\n",
      "[2025-05-24 14:57:00,803: INFO: common: created directory at: artifacts/data_validation]\n",
      "[2025-05-24 14:57:01,079: INFO: 3719562795: Columns in data: ['num_words', 'num_unique_words', 'num_stopwords', 'num_links', 'num_unique_domains', 'num_email_addresses', 'num_spelling_errors', 'num_urgent_keywords', 'label']]\n",
      "[2025-05-24 14:57:01,082: INFO: 3719562795: Expected schema: {'num_words': 'int64', 'num_unique_words': 'int64', 'num_stopwords': 'int64', 'num_links': 'int64', 'num_unique_domains': 'int64', 'num_email_addresses': 'int64', 'num_spelling_errors': 'int64', 'num_urgent_keywords': 'int64', 'label': 'int64'}]\n"
     ]
    }
   ],
   "source": [
    "try:\n",
    "    config = ConfigurationManager()\n",
    "    data_validation_config = config.get_data_validation_config()\n",
    "    data_validation = DataValiadtion(config=data_validation_config)\n",
    "    data_validation.validate_all_columns()\n",
    "except Exception as e:\n",
    "    raise e"
   ]
  },
  {
   "cell_type": "code",
   "execution_count": null,
   "id": "48afa99d",
   "metadata": {},
   "outputs": [],
   "source": []
  }
 ],
 "metadata": {
  "kernelspec": {
   "display_name": "myenv",
   "language": "python",
   "name": "python3"
  },
  "language_info": {
   "codemirror_mode": {
    "name": "ipython",
    "version": 3
   },
   "file_extension": ".py",
   "mimetype": "text/x-python",
   "name": "python",
   "nbconvert_exporter": "python",
   "pygments_lexer": "ipython3",
   "version": "3.8.18"
  }
 },
 "nbformat": 4,
 "nbformat_minor": 5
}
